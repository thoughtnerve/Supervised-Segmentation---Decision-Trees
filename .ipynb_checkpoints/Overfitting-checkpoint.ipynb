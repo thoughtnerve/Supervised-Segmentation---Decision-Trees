{
 "cells": [
  {
   "cell_type": "markdown",
   "metadata": {},
   "source": [
    "# Overfitting"
   ]
  },
  {
   "cell_type": "markdown",
   "metadata": {},
   "source": [
    "## What is Overfitting?"
   ]
  },
  {
   "cell_type": "markdown",
   "metadata": {},
   "source": [
    "Overfitting is a problem that happens all the time in machine learning. Typically in ML analysis what you have is a dataset, and you are trying to learn the patterns in this dataset. You use those patterns to classify new examples. What overfitting is you train so specifically to the exact examples in the training dataset that the patterns you learn don't generalize well to new examples. And so what ends up happening is you actually do worse on trying to classify new examples than if you had tried to not come up with a set of rules thats so very specifically oriented for your training dataset."
   ]
  },
  {
   "cell_type": "markdown",
   "metadata": {},
   "source": [
    "This something that especially comes up when you have a relatively small dataset, or where you have lots of features relative to the number of training examples that you have. Also depending on the algorithm you are using and the exact way you are running it, the parameters that you have set, you can sometimes come up with decisions that can either be more intricate or they can be more general. "
   ]
  },
  {
   "cell_type": "markdown",
   "metadata": {},
   "source": [
    "## How to avoid Overfitting"
   ]
  },
  {
   "cell_type": "markdown",
   "metadata": {},
   "source": [
    "There is a number of ways you can control this but in general, something that you are always supposed to do is if you take your dataset and before you start training the algorithm, you take some subset of your data - maybe like 10-30% of the data and you set "
   ]
  }
 ],
 "metadata": {
  "hide_input": false,
  "kernelspec": {
   "display_name": "Python 3",
   "language": "python",
   "name": "python3"
  },
  "language_info": {
   "codemirror_mode": {
    "name": "ipython",
    "version": 3
   },
   "file_extension": ".py",
   "mimetype": "text/x-python",
   "name": "python",
   "nbconvert_exporter": "python",
   "pygments_lexer": "ipython3",
   "version": "3.5.1"
  }
 },
 "nbformat": 4,
 "nbformat_minor": 0
}
