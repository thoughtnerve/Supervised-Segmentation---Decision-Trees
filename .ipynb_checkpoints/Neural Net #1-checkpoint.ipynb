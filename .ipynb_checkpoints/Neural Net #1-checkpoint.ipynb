{
 "cells": [
  {
   "cell_type": "markdown",
   "metadata": {},
   "source": [
    "The problem of how to build a machine that can do anything, or more specifically given a set of input patterns for this machine and a set of desire o/p patterns for those input patterns, we would like to build a machine that can generate the specified output pattern for a given input pattern. This prob may be interpreted as an example, of solving a supervised learning problem."
   ]
  },
  {
   "cell_type": "markdown",
   "metadata": {},
   "source": [
    "How can principles of logic and reasoning be implemented in the nervous system? A neuron, a brain cell consists of several inputs and an output. Each neuron has both excitatory and inhibitory inputs. If the sum of excitatory inputs  exceeds the neurons firing treshold, then the neuron will fire unless there was an inhibitory input."
   ]
  },
  {
   "cell_type": "markdown",
   "metadata": {},
   "source": [
    "Abstract model neurons can be wired up in such a way so that they can realize any desired logical function that is, these abstract mathematical models of neurons can be connected together so that they implement any desired collection of if-then logical rules. For example, if I am hungry and fruit is available then I should eat the fruit."
   ]
  },
  {
   "cell_type": "markdown",
   "metadata": {},
   "source": [
    "The essential idea underlying is to semantically interpret the firing of the neuron as the event that some assertion is true, while a neuron which felt fired could be semantically interpreted as the corresponding event that an assertion is false. A neuron with a threshold relatively high can be used to implement the logical operation of AND, Only fire if all the excitatory inputs to the neuron are active and no inhibitory input units are active. A neuron with threshold relatively low, could be used to implement the logical operation of OR. ie. if any of the excitatory inputs are active and no inhibitory inputs are active then the neuron would fire. If a neuron whose threshold is set very low and could be inhibited by an inhibitory input, could be used to implemnete the logical operation of NOT. These three logical operations are the building blocks of logic. By combining neurons that can imolement logical operations of And or and not, it can be shown that any logical expression in the world can be represented by a network of these special --mecullic pics for more neurons"
   ]
  },
  {
   "cell_type": "markdown",
   "metadata": {},
   "source": [
    "Suppose we have a logic machine which has a collection of inputs and we want to build a network of neurons that would generate desired pattern of outputs for each pattern of i/ps. the number of possoble i/p patterns is always going to be some finite, rather than some infinite number. If the logic m/c has 3 input and each i/p can be either true or False, there are 8 possible i.p patterns. The total # of ip patterns with 4 logic inputs is 2 to pow 4 = 16 patterns. In order to build a logic m.c which can gen. any desired o/p pattern for a desired input patterns - we use the neurons to build a not function. We create one NOT neuron for each input so that when we have the input to the logic m/c which is false, we have a neuron that turns on. The second step is that we wil rquire one neuron for each pattern of possible inputs - and that neuron is chosen to implement the AND operation. Thus we have a unique neuron firing for each unique input pattern. The output of that neuron can then be used to generate the required action of the logic machine for that input pattern."
   ]
  },
  {
   "cell_type": "markdown",
   "metadata": {},
   "source": [
    "Any arbitrary logical formula can be represented by network of neurons. We refer to these abstract neurons proposed by mcullogh nand pitts as digital logic gates. THe ability to build machines to implement any logical function is an important accomplishment which can be achieved using mc pitts neurons. However, in many cases we must have the ability to build other types od machines to build neumeric inouts rather than logical inpputs, Our analysis of neurons is based uppon the idea that the logic machine only observes a finite rather than an infinite collection of input patterns. This is a limitation of the machoolic and pitts analysis becuse it restricts itself to logical machines rather than machines that can process an infinite array of inputs."
   ]
  },
  {
   "cell_type": "markdown",
   "metadata": {},
   "source": [
    "There are many examples of situations in the world which are naturally represented using patterns of numerical values rather than patterns whose elements are restricted to the values of zero or 1. There are also many examples of machines that can process this info directly."
   ]
  },
  {
   "cell_type": "markdown",
   "metadata": {},
   "source": [
    "Auditory information is percieved over time and is transmitted via acoustic pressure waves that strike eardrums or microphones to gen. neural or electrical activity - thus a sequence of numbers is used to represent auditory information. Visual informatuion is used to perceive over space and time and transmitted via electormagnetic radiation which can be detected by eyeballs and photo detectors. In this case we have sequences or large arrays of numbers which are used to represent incoming visual info. Procreoeptive feedback is also represented numerically rather than by a simple logical true or logical false. Numebrs specificying the internal state of the body such as info about  muscle tension is available for providing info about performance to an athlete. The magnitude of hot or clod is also naturally represented on a numerical scale. Smell and taste are impossible to represent as logical assertions - they are most naturally represented as patterns of numbers Indeed, virtually any perceived input pattern seems as if it is more fundamentally represented on a numerical scale, rather than as a collection of ssertions which could individualy take on the values of true or false. Furthermore it is not always posible to represent the output of an intelligent system as a pattern of conclusions which can be classified as either true or false. The o/p of an intelligent system might involve the control of a movement , which is not represented as turning a switch on or off. Even the process of thinking and planning and reaching conclusions cannot always be represented using the formulism of logic. Intelligent systems as may generate conclusions which are represented in terms of the numerical likelihood that one action is more or less preferable to another action i.e. an intelliugent system whose i/ps are collection of numerical preferences, and whose outputs are a collection of num. preferences is not solving a logic problem. Thus in the real world there may be an infinte variation in the world and the outputs of the machine may have infinite variation as well. We typically cannot always represent the world as a finite # of possible input patterns and the o/p of the machine as a finnite collection of possible output patterns, "
   ]
  },
  {
   "cell_type": "markdown",
   "metadata": {},
   "source": [
    "These thoughts lead us to a concept which generalize the concept of an if-then logical rule. This new concept is called a function. You can think of a function as a type of machine, whose inputs are a collection of numerical measurements which then generates a set of outputs which are also represented as pattern of numbers. As previously noted, such situations are quite commen in areas such as speech signal processing, image processing or problems involving the control of physical devices and systems. The problem of designing or even learning a function to achieve this goal seems daunting. Indeed it can be shown that in this more general case, the problem of designing such as machine is equivalent to selecting a function from an infinte collection of functions. Fortunately however, there is some good news. Most of the important functions in this large infinite collection of functions can be approx represented as curvy or smooth functions, which are technically known as continuous functions. From the perspective of a machine that is designed to take some input pattern of numerical inputs and gen. some o.p patterns of numerical outputs, this assuption the m/c can be represented as a cont. f/n simply means that if you give the machine  a pattern of num. i/ps and you get a response, then you should get a similar response if you give the machine a very similar pattern of numerical inputs. This is actually a very desirable property for a machine which is generalized from experience and make inferences about numerical patterns of inputs which it has never seen before. "
   ]
  },
  {
   "cell_type": "markdown",
   "metadata": {},
   "source": [
    "Given the concept of a continuous function, we now introduce the idea of a function space. Suppose we start with a finite number of functions which are called basis functions. We now consider the set of all possible functions which can be formed by computing weighted sum of basis functions. So this gigantic set of functions which are generated from wieghted sums of basis functions, is called a linear function space. "
   ]
  },
  {
   "cell_type": "markdown",
   "metadata": {},
   "source": [
    "Now if we are careful about how we select our basis functions, we can show that any continuous function can be approx represented as a weighted sum of basis functions. Not any basis function will do however, although over a few types which are commonly used in m/c learning and which have been mathematically proven to be able to represent apprroximatly any arbitrary continuous function. If the basis fns are chosen in an appropriate manner, one can then prove using mathematical theorems that the weighted sum of basis functions may be used to approximately represent any given continuous function to any desired degree of accuracy. This type of approach is the example of function approximation which is a widely used concept in the field of m/c learning. Although many different types of basis functions will have the appropriate properties for specifying a function space. We will only focus on 2 specific types of basis functions. The 2 most widley used types of basis functions are rbf basis functions and sigmoidal basis functions."
   ]
  },
  {
   "cell_type": "markdown",
   "metadata": {},
   "source": [
    "Both of these types of basis functions are capable of specifying function spaces which can represent any arbitrary continuous function. The first type of basis function is the rbf or the radio? basis function. The rpf has the property that this basis function takes on it's max value for a particular pattern of numerical i/ps. Suppose an rbf is designed to respond to the i/p parttern of 3 numerical i/ps 112, 42, -10. Thus when the pattern 112, 42, -10 is presented, the rbf might generate the number 10. But if a different pattern such as 0, -100, 0 is presented, the rbf might generate a number which is very close to 0 . The fun part begins when we present a pattern of numerical i/ps which are similar but not identical to the pattern that the rbf knows. So if we present the pattern 112, 42, -9, instead of 112, 42, -10, the rbf might respond with the number 9 instead of the number 10. Geometrically, we can imagine the rbf as a hill, where a location of the center of the hill corresponds to the identity of the i/p pattern  the rbf knows, and the height of the hill correspnds the response of the rbf for a given input pattern. Locations far away from the center of the hill will correspond to low heights, or equivalently weak responses. There are also other parameters of the rbf which can be used to adjust the height, width and the shape of the rbf. Regardless of the adjustments of these various params, the geometric shape of an rbf always looks like a bump or hill. So far we have only talked about a single rbf, but as mentioned previously, in order to approximately represent diff funtions we want to comput a weighted sum of rbfs, Here is how to visualize what this means Lets go back to the idea of the rbf of a hill, which the location of the height corresponds to the input pattern that the rbf knows and the height of the hill corresponds to the response of the rbf. Now suppose we want to approximate an arbutrary continuous function using a weighted sum of rbfs GGeomtrically this corresponds to the goal of an arbitrary shape of a mountain range formed from hills generated from thiese rbfs. By coosing the location shape and height of these rbfs in an appropriate manner, it should be possible to design a mountain range of any desired shape. The shape of the mountain range is interpretable in this context as the specification of the desired continuous function which we wish to approximate using the rbf network, We can also interpret the rbf as an alternative abstract mathematical model of a neuron, which is diff from a mccollogh pitts neuron. The rbf neuron is a feature detector which responds strongly to a pattern of numerical input and just like the mcollough pits neuron, we can wire together neurons to generate novel machines to support intellighrt computatons. Specifically we can imagine having a large collection of rbfs neurons which receive the same i/p patten of numerical inputs. the o/p of these rbf neurons generate a new pattern of numerical o.ps.  "
   ]
  },
  {
   "cell_type": "markdown",
   "metadata": {},
   "source": [
    "This new pattern of num. o/ops can be fed to another abstract neuron model which computs the weghted sum of its inputs.We might refer to an rbf neuron as an rbf unit since our goal is not to prosit theories of neuro processing, rather to describe a particular computing strategy which maay or maynot have a possble neuro interpretation. Anyway we have best shown that any arbitrary continuous function may be approximated by using a large # of rbf units whose outputs feed into another unit. More specifically the o.ps of the rbf unit are fed into a unit that computes a weighted sum of its inpuut. This other unit may be called a linear phormoneuron or linear unit. Rbf units are very useful for representing arbitrary analog signals, which dont have the semantic interpretation of true or false. "
   ]
  },
  {
   "cell_type": "markdown",
   "metadata": {},
   "source": [
    "rbf units are not better or worse than mo units, but rather its important to select the approriate unit for the aoor ipirate modeling task. If we have a situation where we have fuzzy logic. In other words, the inouts to our inferece machine can be equal to #1 - indicating true or equal to #0 indicating false. But they could also have a # between 0 and 1 indicating maybe .. ie an inout of 9/10s means the assertion is vey close to true and an input of 1/10 s means the assertion is very close to false. In order to represent arbitrary continuous function with these tyoes of input patterns. one cannot use mp units since such are design to work with inputs designed to take only 0 or 1."
   ]
  },
  {
   "cell_type": "markdown",
   "metadata": {},
   "source": [
    "Also rbf units are not really the best choice, because they are not designed to model if then logic like mp units. This leads us to a new important tyoe of basis function, called the sigmoidal unit. The sigmouidal unit is a smooth version of an mp unit. To review a mp unit fires, if enough of its inouts are active. A sigmoidal unit works by computing a weighted sum of its inputs. If the weighted sum of the inputs is a large then the sigmoidal unit;s response is apporximately is equal to the weighted sum of its inouts. Geometriclly, the response characterstic of a sigmoidal unit can be visualized as a ramp that graduallyincreases in altitude from a low altitued to a high altitude. The altitude of the row increases and then the road is leavel again on its highest altitude. The location of all points on the highest altitude portion of the road, correspond to input patterns which are assigned a value of 1 orlogical true, the location of the lowest altitude portion of the road cotrrespond to i/p pattens wich are assigned a value of 0 or a logical false. Points on the ramp section of the road which traverses from the lowest to the highest altiude correspond to input patters which are considered partially true and partially false which are input patterns asociated with greater altitudes, they identify as patterns that are more true than false. "
   ]
  },
  {
   "cell_type": "markdown",
   "metadata": {},
   "source": [
    "Although a weighted sum of sigmoidal units like the rbf unit is capable of approx representing any  continuous function, networks of sigmoidal units are especially useful for representing functions that approximate logical computatons. Networrks of rbf units on other hand are especially unseful for representing functions that process analog data, such as those encountered in speech signal processing and image processing. So to summarize we have shown that mp units may be used to construct machines that can represent any arbitrary logical function, rbf units and sigmouidal units may be used to construct machines that can approx represent any arbitrary continuous function. As a general rule however, sigmoidal units are preferred when the machine is inteded to represent a continuous approx to a logical function such as a fuzzy logic machine.In otehr cases whent the machine is not modeling a logic or fuzzy logic computations, then rbf units should be considered. "
   ]
  },
  {
   "cell_type": "markdown",
   "metadata": {},
   "source": [
    "Its important to emphasise that these theoretical results htat we have discussed today are really theorems about representation. These results do not tell us whether a machine with rbf or sigmoidal units will exhibit better generalization perfomance. In other words, the theoretical results do not say anything about how the machine will behave when it is presented with a novel imnput, unless the input is very similar to one of the trained input patterns. The results discussed today provide necessary conditions for effective memorization, but not sufficient conditions for generalization performance. "
   ]
  },
  {
   "cell_type": "code",
   "execution_count": null,
   "metadata": {
    "collapsed": true
   },
   "outputs": [],
   "source": []
  }
 ],
 "metadata": {
  "hide_input": false,
  "kernelspec": {
   "display_name": "Python 3",
   "language": "python",
   "name": "python3"
  },
  "language_info": {
   "codemirror_mode": {
    "name": "ipython",
    "version": 3
   },
   "file_extension": ".py",
   "mimetype": "text/x-python",
   "name": "python",
   "nbconvert_exporter": "python",
   "pygments_lexer": "ipython3",
   "version": "3.5.1"
  }
 },
 "nbformat": 4,
 "nbformat_minor": 0
}
