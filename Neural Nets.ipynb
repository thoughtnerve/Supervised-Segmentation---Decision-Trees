{
 "cells": [
  {
   "cell_type": "markdown",
   "metadata": {},
   "source": [
    "# Support Vector Machines"
   ]
  },
  {
   "cell_type": "markdown",
   "metadata": {},
   "source": [
    "## What is it"
   ]
  },
  {
   "cell_type": "markdown",
   "metadata": {},
   "source": [
    "SVM is a very popular algorithm. What SVM does is find the separating line between data from two classes. The line maximizes the distance between the nearest point in two classes. "
   ]
  },
  {
   "cell_type": "code",
   "execution_count": null,
   "metadata": {
    "collapsed": true
   },
   "outputs": [],
   "source": [
    "import sklearn\n"
   ]
  },
  {
   "cell_type": "markdown",
   "metadata": {
    "hide_input": false,
    "run_control": {
     "marked": true
    },
    "slideshow": {
     "slide_type": "slide"
    }
   },
   "source": [
    "# Neural Networks"
   ]
  },
  {
   "cell_type": "code",
   "execution_count": 3,
   "metadata": {
    "collapsed": false,
    "hide_input": false,
    "run_control": {
     "marked": true
    },
    "slideshow": {
     "slide_type": "-"
    }
   },
   "outputs": [
    {
     "data": {
      "text/html": [
       "\n",
       "        <script>\n",
       "        \n",
       "        function resizeIframe(ifrm) {       \n",
       "            ifrm.style.height = ifrm.contentWindow.document.body.scrollHeight + 'px';\n",
       "            // Setting the width here, or setting overflowX to \"hidden\" as above both \n",
       "            // work for this page. It may be that one turns out to be better.\n",
       "            ifrm.style.width = ifrm.contentWindow.document.body.scrollWidth + 'px';\n",
       "        }\n",
       "        \n",
       "        function code_toggle(identifier) {\n",
       "        \n",
       "            code_cell = $( \"span:contains(\" + identifier + \"):last\" ).parentsUntil('div.cell').last().parent().next().children().first();\n",
       "            \n",
       "            if ($(code_cell).is(':visible')) {\n",
       "            code_cell.hide();\n",
       "            }\n",
       "            else\n",
       "            {\n",
       "            code_cell.show();\n",
       "            }\n",
       "            \n",
       "            var ifrm = window.parent.document.getElementById('ipython_notebook_frame');   \n",
       "            setTimeout(resizeIframe, 0, ifrm);\n",
       "        \n",
       "        }\n",
       "        \n",
       "        function hide_all() {\n",
       "             $('div.input').hide();\n",
       "        }\n",
       "\n",
       "        $( document ).ready(hide_all);\n",
       "         \n",
       "        \n",
       "        </script>\n",
       "        "
      ],
      "text/plain": [
       "<IPython.core.display.HTML object>"
      ]
     },
     "execution_count": 3,
     "metadata": {},
     "output_type": "execute_result"
    }
   ],
   "source": [
    "#Global Functions\n",
    "import init\n",
    "from IPython.display import HTML\n",
    "\n",
    "def scriptHTML():\n",
    "    script = '''\n",
    "        <script>\n",
    "        \n",
    "        function resizeIframe(ifrm) {       \n",
    "            ifrm.style.height = ifrm.contentWindow.document.body.scrollHeight + 'px';\n",
    "            // Setting the width here, or setting overflowX to \"hidden\" as above both \n",
    "            // work for this page. It may be that one turns out to be better.\n",
    "            ifrm.style.width = ifrm.contentWindow.document.body.scrollWidth + 'px';\n",
    "        }\n",
    "        \n",
    "        function code_toggle(identifier) {\n",
    "        \n",
    "            code_cell = $( \"span:contains(\" + identifier + \"):last\" ).parentsUntil('div.cell').last().parent().next().children().first();\n",
    "            \n",
    "            if ($(code_cell).is(':visible')) {\n",
    "            code_cell.hide();\n",
    "            }\n",
    "            else\n",
    "            {\n",
    "            code_cell.show();\n",
    "            }\n",
    "            \n",
    "            var ifrm = window.parent.document.getElementById('ipython_notebook_frame');   \n",
    "            setTimeout(resizeIframe, 0, ifrm);\n",
    "        \n",
    "        }\n",
    "        \n",
    "        function hide_all() {\n",
    "             $('div.input').hide();\n",
    "        }\n",
    "\n",
    "        $( document ).ready(hide_all);\n",
    "         \n",
    "        \n",
    "        </script>\n",
    "        '''\n",
    "    \n",
    "    return HTML(script)\n",
    "\n",
    "def hide_code_message(identifier,message=\"Show/Hide Code\"):\n",
    "    form_start1 = ''' <form action=\\\"javascript:code_toggle('''\n",
    "    identifier = \"'\" + identifier +  \"'\"\n",
    "    form_start2 = ''')\\\"> <input type=\\\"submit\\\" value= '''\n",
    "    form_end = '''></form>'''\n",
    "    \n",
    "    #print (form_start1 + identifier + form_start2 + '\"' + message + '\"' + form_end)\n",
    "    return HTML(form_start1 + identifier + form_start2 + '\"' + message + '\"' + form_end)\n",
    "\n",
    "scriptHTML()"
   ]
  },
  {
   "cell_type": "markdown",
   "metadata": {
    "run_control": {
     "marked": true
    },
    "slideshow": {
     "slide_type": "subslide"
    }
   },
   "source": [
    "<img style=\"align=middle\" src=\"ipyimages/neuron.png\">"
   ]
  },
  {
   "cell_type": "markdown",
   "metadata": {
    "collapsed": false,
    "hide_input": false,
    "run_control": {
     "marked": true
    },
    "slideshow": {
     "slide_type": "notes"
    }
   },
   "source": [
    "(NN.10) Neurons are interconnected nerve cells in the brain that are involved in the processing and transmitting of chemical and electrical signals. A nerve cell is like a simple logic gate with binary outputs. Multiple signals arrive at the dendrites, if the accumulated signal exceeds a certain threshold in the cell body, an output signal is generated that will be passed on by the Axon."
   ]
  },
  {
   "cell_type": "markdown",
   "metadata": {
    "collapsed": false,
    "hide_input": false,
    "run_control": {
     "marked": true
    },
    "slideshow": {
     "slide_type": "notes"
    }
   },
   "source": [
    "(NN.20) The concept of perceptron learning rule is based on the MCP neuron model. The perceptron learning algorithm automatically learns the optimal weights that are then multiplied with the inputs in order to make a decision whether a neuron fires or not. In the context of supervised learning, such an algorithm can be used to predict if a sample belongs to one class or another. In other words, its a binary classification task."
   ]
  },
  {
   "cell_type": "code",
   "execution_count": 4,
   "metadata": {
    "collapsed": false,
    "hide_input": false,
    "run_control": {
     "marked": true
    },
    "slideshow": {
     "slide_type": "skip"
    }
   },
   "outputs": [
    {
     "data": {
      "text/html": [
       " <form action=\"javascript:code_toggle('code-NN.10')\"> <input type=\"submit\" value= \"Show/Hide Code\"></form>"
      ],
      "text/plain": [
       "<IPython.core.display.HTML object>"
      ]
     },
     "execution_count": 4,
     "metadata": {},
     "output_type": "execute_result"
    }
   ],
   "source": [
    "hide_code_message(\"code-NN.10\")"
   ]
  },
  {
   "cell_type": "code",
   "execution_count": 3,
   "metadata": {
    "code_folding": [],
    "collapsed": false,
    "hide_input": false,
    "hide_output": false,
    "run_control": {
     "marked": true
    },
    "slideshow": {
     "slide_type": "fragment"
    }
   },
   "outputs": [
    {
     "data": {
      "text/html": [
       "<div>\n",
       "<table border=\"1\" class=\"dataframe\">\n",
       "  <thead>\n",
       "    <tr style=\"text-align: right;\">\n",
       "      <th></th>\n",
       "      <th>Title</th>\n",
       "      <th>Year</th>\n",
       "      <th>Genre</th>\n",
       "      <th>Length</th>\n",
       "      <th>Rating</th>\n",
       "      <th>Watched</th>\n",
       "    </tr>\n",
       "  </thead>\n",
       "  <tbody>\n",
       "    <tr>\n",
       "      <th>0</th>\n",
       "      <td>Raiders of the Lost Ark</td>\n",
       "      <td>80s</td>\n",
       "      <td>Action</td>\n",
       "      <td>Average</td>\n",
       "      <td>Average</td>\n",
       "      <td>Yes</td>\n",
       "    </tr>\n",
       "    <tr>\n",
       "      <th>1</th>\n",
       "      <td>The Lord of the Rings 3</td>\n",
       "      <td>00s</td>\n",
       "      <td>Drama</td>\n",
       "      <td>Long</td>\n",
       "      <td>High</td>\n",
       "      <td>Yes</td>\n",
       "    </tr>\n",
       "    <tr>\n",
       "      <th>2</th>\n",
       "      <td>Fight Club</td>\n",
       "      <td>90s</td>\n",
       "      <td>Drama</td>\n",
       "      <td>Average</td>\n",
       "      <td>High</td>\n",
       "      <td>Yes</td>\n",
       "    </tr>\n",
       "    <tr>\n",
       "      <th>3</th>\n",
       "      <td>Braveheart</td>\n",
       "      <td>90s</td>\n",
       "      <td>Drama</td>\n",
       "      <td>Long</td>\n",
       "      <td>Average</td>\n",
       "      <td>Yes</td>\n",
       "    </tr>\n",
       "    <tr>\n",
       "      <th>4</th>\n",
       "      <td>Inception</td>\n",
       "      <td>10s</td>\n",
       "      <td>Action</td>\n",
       "      <td>Average</td>\n",
       "      <td>High</td>\n",
       "      <td>No</td>\n",
       "    </tr>\n",
       "    <tr>\n",
       "      <th>5</th>\n",
       "      <td>The Godfather</td>\n",
       "      <td>70s</td>\n",
       "      <td>Drama</td>\n",
       "      <td>Average</td>\n",
       "      <td>High</td>\n",
       "      <td>No</td>\n",
       "    </tr>\n",
       "    <tr>\n",
       "      <th>6</th>\n",
       "      <td>Aliens</td>\n",
       "      <td>80s</td>\n",
       "      <td>Horror</td>\n",
       "      <td>Average</td>\n",
       "      <td>Average</td>\n",
       "      <td>No</td>\n",
       "    </tr>\n",
       "    <tr>\n",
       "      <th>7</th>\n",
       "      <td>Once upon a time in America</td>\n",
       "      <td>80s</td>\n",
       "      <td>Crime</td>\n",
       "      <td>Long</td>\n",
       "      <td>Average</td>\n",
       "      <td>No</td>\n",
       "    </tr>\n",
       "  </tbody>\n",
       "</table>\n",
       "</div>"
      ],
      "text/plain": [
       "                         Title Year   Genre   Length   Rating Watched\n",
       "0      Raiders of the Lost Ark  80s  Action  Average  Average     Yes\n",
       "1      The Lord of the Rings 3  00s   Drama     Long     High     Yes\n",
       "2                   Fight Club  90s   Drama  Average     High     Yes\n",
       "3                   Braveheart  90s   Drama     Long  Average     Yes\n",
       "4                    Inception  10s  Action  Average     High      No\n",
       "5                The Godfather  70s   Drama  Average     High      No\n",
       "6                       Aliens  80s  Horror  Average  Average      No\n",
       "7  Once upon a time in America  80s   Crime     Long  Average      No"
      ]
     },
     "metadata": {},
     "output_type": "display_data"
    }
   ],
   "source": [
    "#Display movie history dataset\n",
    "import init\n",
    "import plotly\n",
    "import plotly.tools as tls\n",
    "from IPython.display import display\n",
    "from IPython.display import Image\n",
    "import cufflinks as cf\n",
    "import pandas as pd\n",
    "import numpy as np\n",
    "import math\n",
    "import plotly.plotly as py\n",
    "import plotly.graph_objs as go\n",
    "\n",
    "py.sign_in('cloaked', 'wiwoxbjrvr')\n",
    "movie_history = pd.read_csv('https://goo.gl/xRfbvH')\n",
    "display(movie_history)"
   ]
  },
  {
   "cell_type": "markdown",
   "metadata": {
    "run_control": {
     "marked": true
    },
    "slideshow": {
     "slide_type": "skip"
    }
   },
   "source": [
    "(NN.21) Let us continue with the example of the movie history dataset, where we want to do a binary classification of the Variable *Watched* as Yes or No, which could be represented by the positive class 1 and the negative class -1. We can then defined a \"neural\" activation function f(z) that takes a combination of input values and a weight to those values."
   ]
  },
  {
   "cell_type": "markdown",
   "metadata": {
    "slideshow": {
     "slide_type": "fragment"
    }
   },
   "source": [
    "$$ z = w_1Year + w_2Genre + w_3Length + w_4Rating $$ "
   ]
  },
  {
   "cell_type": "markdown",
   "metadata": {},
   "source": [
    "If the value of f(z) is > t (threshold) then we predict class 1 else we predict class -1. So essentially we are reducing all the dimensions of the equation to one value, the whole idea being that this mimics how a single neuron works in the brain: it either fires or it doesn't. "
   ]
  },
  {
   "cell_type": "markdown",
   "metadata": {},
   "source": [
    "The way in which this can be a learner is as follows: \n",
    "Start with initializing weights w1,w2,w3,w4 to small numbers. For each feature vector, compute the output value based on the above logic. Continue updating the weights until the desired value is reached."
   ]
  },
  {
   "cell_type": "markdown",
   "metadata": {
    "hide_input": false,
    "run_control": {
     "marked": true
    },
    "slideshow": {
     "slide_type": "slide"
    }
   },
   "source": [
    "## Supervised Segmentation"
   ]
  },
  {
   "cell_type": "code",
   "execution_count": 4,
   "metadata": {
    "collapsed": false,
    "hide_input": true,
    "run_control": {
     "marked": true
    },
    "slideshow": {
     "slide_type": "skip"
    }
   },
   "outputs": [
    {
     "data": {
      "text/html": [
       " <form action=\"javascript:code_toggle('code-MID.10')\"> <input type=\"submit\" value= \"Show/Hide Code that calculates entropy\"></form>"
      ],
      "text/plain": [
       "<IPython.core.display.HTML object>"
      ]
     },
     "execution_count": 4,
     "metadata": {},
     "output_type": "execute_result"
    }
   ],
   "source": [
    "hide_code_message(\"code-MID.10\",\"Show/Hide Code that calculates entropy\")"
   ]
  },
  {
   "cell_type": "markdown",
   "metadata": {
    "hide_input": false,
    "run_control": {
     "marked": true
    },
    "slideshow": {
     "slide_type": "fragment"
    }
   },
   "source": [
    "(MID.30) Entropy is a measure of probability or relative percentage of each unique value occuring among all values in a dataset . Entropy is defined by the following mathematical formula:\n",
    "$$entropy = - p_1 log (p_1) - p_2 log (p_2) - ...$$"
   ]
  },
  {
   "cell_type": "code",
   "execution_count": 7,
   "metadata": {
    "code_folding": [],
    "collapsed": false,
    "hide_input": true,
    "hide_output": false,
    "run_control": {
     "marked": false
    },
    "slideshow": {
     "slide_type": "subslide"
    }
   },
   "outputs": [
    {
     "data": {
      "text/html": [
       "<iframe id=\"igraph\" scrolling=\"no\" style=\"border:none;\" seamless=\"seamless\" src=\"https://plot.ly/~cloaked/125.embed\" height=\"525px\" width=\"100%\"></iframe>"
      ],
      "text/plain": [
       "<plotly.tools.PlotlyDisplay object>"
      ]
     },
     "execution_count": 7,
     "metadata": {},
     "output_type": "execute_result"
    }
   ],
   "source": [
    "#Plot entropy concept\n",
    "data = [{'Watched': 'No'},\n",
    " {'Watched': 'No'},\n",
    " {'Watched': 'No'},\n",
    " {'Watched': 'No'},\n",
    " {'Watched': 'No'},\n",
    " {'Watched': 'No'},\n",
    " {'Watched': 'No'},\n",
    " {'Watched': 'No'}]\n",
    "\n",
    "\n",
    "def target_values(d):\n",
    "    vals = \"\"\n",
    "    for i in range(0,len(data)):\n",
    "        if i != 0:\n",
    "            vals = vals + \",\"\n",
    "        if i == len(data)/2:\n",
    "            vals = vals + \"<br>\"\n",
    "        vals = vals + d[i]['Watched']\n",
    "    return vals\n",
    "\n",
    "last_index = len(data) \n",
    "entropies = pd.DataFrame(columns=('X','Y','label'))\n",
    "   \n",
    "for i in range(0,last_index):        \n",
    "    entropies.loc[i]= [i,entropy(data,\"Watched\"),target_values(data)]\n",
    "    data[i]['Watched'] = 'Yes' \n",
    "entropies.loc[i+1]= [i+1,entropy(data,\"Watched\"),target_values(data)]\n",
    "\n",
    "trace1 = go.Scatter(\n",
    "    x=entropies.X,\n",
    "    y=entropies.Y,\n",
    "    mode='lines+markers+text',\n",
    "    name='Lines, Markers and Text',\n",
    "    text= entropies.label\n",
    ")\n",
    "\n",
    "display_data = [trace1]\n",
    "layout = go.Layout(\n",
    "    title = \n",
    "    'Entropy variation with the set of target values of <i>Watched</i> changing from all <b>No</b> to all <b>Yes</b> within the dataset',\n",
    "    showlegend=False, font=dict(family='Source Sans Pro')\n",
    ")\n",
    "fig = go.Figure(data=display_data, layout=layout)\n",
    "\n",
    "py.iplot(fig,filename='entropy_concept')"
   ]
  },
  {
   "cell_type": "code",
   "execution_count": 6,
   "metadata": {
    "collapsed": false,
    "hide_input": false,
    "run_control": {
     "marked": true
    },
    "slideshow": {
     "slide_type": "skip"
    }
   },
   "outputs": [
    {
     "data": {
      "text/html": [
       " <form action=\"javascript:code_toggle('code-MID.40')\"> <input type=\"submit\" value= \"Show/Hide Code that generates the entropy plot\"></form>"
      ],
      "text/plain": [
       "<IPython.core.display.HTML object>"
      ]
     },
     "execution_count": 6,
     "metadata": {},
     "output_type": "execute_result"
    }
   ],
   "source": [
    "hide_code_message(\"code-MID.40\",\"Show/Hide Code that generates the entropy plot\")"
   ]
  }
 ],
 "metadata": {
  "celltoolbar": "Slideshow",
  "hide_input": false,
  "kernelspec": {
   "display_name": "Python 3",
   "language": "python",
   "name": "python3"
  },
  "language_info": {
   "codemirror_mode": {
    "name": "ipython",
    "version": 3
   },
   "file_extension": ".py",
   "mimetype": "text/x-python",
   "name": "python",
   "nbconvert_exporter": "python",
   "pygments_lexer": "ipython3",
   "version": "3.5.1"
  }
 },
 "nbformat": 4,
 "nbformat_minor": 0
}
