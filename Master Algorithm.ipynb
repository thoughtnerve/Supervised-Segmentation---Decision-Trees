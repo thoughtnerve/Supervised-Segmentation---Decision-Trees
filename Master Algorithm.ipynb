{
 "cells": [
  {
   "cell_type": "markdown",
   "metadata": {},
   "source": [
    "how yeast cells work. Basic knowledge of yeast genetics and metabolism and a trove of gene expression data from yeast cells. It then usese inverse deduction mechanisms to hypothesize which genes produce which protiens , designs microarray experiments to test then, revise the hypothesis and repeats. Whether each gene is expressed depends on "
   ]
  },
  {
   "cell_type": "code",
   "execution_count": null,
   "metadata": {
    "collapsed": true
   },
   "outputs": [],
   "source": []
  }
 ],
 "metadata": {
  "kernelspec": {
   "display_name": "Python 3",
   "language": "python",
   "name": "python3"
  },
  "language_info": {
   "codemirror_mode": {
    "name": "ipython",
    "version": 3
   },
   "file_extension": ".py",
   "mimetype": "text/x-python",
   "name": "python",
   "nbconvert_exporter": "python",
   "pygments_lexer": "ipython3",
   "version": "3.5.1"
  }
 },
 "nbformat": 4,
 "nbformat_minor": 0
}
